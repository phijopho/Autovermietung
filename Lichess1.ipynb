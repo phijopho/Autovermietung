{
  "nbformat": 4,
  "nbformat_minor": 0,
  "metadata": {
    "colab": {
      "provenance": [],
      "authorship_tag": "ABX9TyOnyfTGVz5Qzxvh5yVXs2gq",
      "include_colab_link": true
    },
    "kernelspec": {
      "name": "python3",
      "display_name": "Python 3"
    },
    "language_info": {
      "name": "python"
    }
  },
  "cells": [
    {
      "cell_type": "markdown",
      "metadata": {
        "id": "view-in-github",
        "colab_type": "text"
      },
      "source": [
        "<a href=\"https://colab.research.google.com/github/phijopho/Autovermietung/blob/main/Lichess1.ipynb\" target=\"_parent\"><img src=\"https://colab.research.google.com/assets/colab-badge.svg\" alt=\"Open In Colab\"/></a>"
      ]
    },
    {
      "cell_type": "code",
      "source": [
        "# Import necessary libraries\n",
        "import requests\n",
        "import pandas as pd\n",
        "import matplotlib.pyplot as plt\n",
        "import json\n",
        "\n",
        "# For later modeling\n",
        "from sklearn.model_selection import train_test_split\n",
        "from sklearn.linear_model import LogisticRegression\n",
        "from sklearn.metrics import accuracy_score, roc_auc_score"
      ],
      "metadata": {
        "id": "L7s1SfS36fZv"
      },
      "execution_count": 1,
      "outputs": []
    },
    {
      "cell_type": "code",
      "execution_count": 8,
      "metadata": {
        "colab": {
          "base_uri": "https://localhost:8080/"
        },
        "id": "xZo8BydV6ZGW",
        "outputId": "f279ba7f-e746-4b36-e620-417048e7962c"
      },
      "outputs": [
        {
          "output_type": "stream",
          "name": "stdout",
          "text": [
            "Fetched 200 games.\n"
          ]
        }
      ],
      "source": [
        "# Define a function to fetch data from the Lichess API\n",
        "def fetch_lichess_games(username, max_games=50):\n",
        "    \"\"\"\n",
        "    Fetches game data for a given Lichess user.\n",
        "    Note: The Lichess API endpoint may require additional parameters or authentication.\n",
        "    \"\"\"\n",
        "    # Example endpoint URL; adjust parameters as needed.\n",
        "    url = f\"https://lichess.org/api/games/user/{username}?max={max_games}&moves=false&tags=false&clocks=false\"\n",
        "    headers = {'Accept': 'application/x-ndjson'}\n",
        "\n",
        "    response = requests.get(url, headers=headers)\n",
        "    if response.status_code == 200:\n",
        "        # The response is in NDJSON format (each line is a JSON object)\n",
        "        games = [json.loads(line) for line in response.text.splitlines() if line]\n",
        "        return games\n",
        "    else:\n",
        "        raise Exception(f\"Error fetching data: {response.status_code}\")\n",
        "\n",
        "# Example: Fetch games for a sample user (replace 'sample_username' with a real username)\n",
        "try:\n",
        "    games_data = fetch_lichess_games(\"PhilippSpiegel\", max_games=200)\n",
        "    print(f\"Fetched {len(games_data)} games.\")\n",
        "except Exception as e:\n",
        "    print(e)"
      ]
    },
    {
      "cell_type": "code",
      "source": [
        "# Convert the fetched data into a DataFrame\n",
        "# For demonstration, let's extract some key fields:\n",
        "# - 'players' to get rating information\n",
        "# - 'winner' to determine the outcome\n",
        "\n",
        "def parse_game_data(games):\n",
        "    records = []\n",
        "    for game in games:\n",
        "        # Example extraction; actual keys depend on the API response structure\n",
        "        try:\n",
        "            white_rating = game['players']['white']['rating']\n",
        "            black_rating = game['players']['black']['rating']\n",
        "            result = game.get('winner', None)  # could be 'white', 'black', or None for draw\n",
        "            # For our target variable, assume:\n",
        "            # If you are white, win=1 if winner == 'white'; if you are black, win=1 if winner == 'black'\n",
        "            # Here, we'll store the result as is and later set up the target accordingly.\n",
        "            records.append({\n",
        "                'white_rating': white_rating,\n",
        "                'black_rating': black_rating,\n",
        "                'winner': result\n",
        "            })\n",
        "        except Exception as ex:\n",
        "            print(\"Skipping a game due to missing data:\", ex)\n",
        "    return pd.DataFrame(records)\n",
        "\n",
        "df_games = parse_game_data(games_data)\n",
        "print(df_games.head())"
      ],
      "metadata": {
        "colab": {
          "base_uri": "https://localhost:8080/"
        },
        "id": "Efi6_1qO60Q_",
        "outputId": "c4456848-263e-4baf-a019-45088a0ce552"
      },
      "execution_count": 9,
      "outputs": [
        {
          "output_type": "stream",
          "name": "stdout",
          "text": [
            "   white_rating  black_rating winner\n",
            "0          1500          1513  white\n",
            "1          1487          1494  black\n",
            "2          1723          1719  black\n",
            "3          1773          1728  white\n",
            "4          1722          1713  white\n"
          ]
        }
      ]
    },
    {
      "cell_type": "code",
      "source": [
        "# Data Exploration and Feature Engineering\n",
        "\n",
        "# Let's create a new feature: rating difference (white_rating - black_rating)\n",
        "df_games['rating_diff'] = df_games['white_rating'] - df_games['black_rating']\n",
        "\n",
        "# Define the target variable.\n",
        "# For demonstration, assume we want to predict the outcome for the white player:\n",
        "# If 'winner' is 'white' then win=1, if 'black' then win=0. (Draws can be handled later.)\n",
        "df_games['white_win'] = df_games['winner'].apply(lambda x: 1 if x=='white' else (0 if x=='black' else None))\n",
        "\n",
        "print(df_games[['white_rating', 'black_rating', 'rating_diff', 'white_win']].head())\n",
        "\n",
        "# Visualize the rating difference distribution\n",
        "plt.hist(df_games['rating_diff'], bins=20, edgecolor='black')\n",
        "plt.title(\"Rating Difference (White - Black)\")\n",
        "plt.xlabel(\"Rating Difference\")\n",
        "plt.ylabel(\"Frequency\")\n",
        "plt.show()"
      ],
      "metadata": {
        "colab": {
          "base_uri": "https://localhost:8080/",
          "height": 574
        },
        "id": "-BNwVgjE7VBm",
        "outputId": "3e0ac33a-a8d0-4c09-d04c-e27fbd58b32e"
      },
      "execution_count": 10,
      "outputs": [
        {
          "output_type": "stream",
          "name": "stdout",
          "text": [
            "   white_rating  black_rating  rating_diff  white_win\n",
            "0          1500          1513          -13        1.0\n",
            "1          1487          1494           -7        0.0\n",
            "2          1723          1719            4        0.0\n",
            "3          1773          1728           45        1.0\n",
            "4          1722          1713            9        1.0\n"
          ]
        },
        {
          "output_type": "display_data",
          "data": {
            "text/plain": [
              "<Figure size 640x480 with 1 Axes>"
            ],
            "image/png": "[encoded data removed]"
          },
          "metadata": {}
        }
      ]
    },
    {
      "cell_type": "code",
      "source": [
        "# Preparing Data for Modeling\n",
        "\n",
        "# Remove rows with draws (None in white_win) or missing target values\n",
        "df_model = df_games.dropna(subset=['white_win'])\n",
        "\n",
        "# Define features and target\n",
        "features = ['rating_diff']  # You can add more features later (e.g., recent performance metrics)\n",
        "X = df_model[features]\n",
        "y = df_model['white_win']\n",
        "\n",
        "# Split into training and testing sets\n",
        "X_train, X_test, y_train, y_test = train_test_split(X, y, test_size=0.2, random_state=42)\n",
        "\n",
        "print(\"Training samples:\", X_train.shape[0])\n",
        "print(\"Testing samples:\", X_test.shape[0])"
      ],
      "metadata": {
        "colab": {
          "base_uri": "https://localhost:8080/"
        },
        "id": "zZ9qB_JP7gnw",
        "outputId": "a8f2e854-1c8b-4440-b967-123e900bf3de"
      },
      "execution_count": 11,
      "outputs": [
        {
          "output_type": "stream",
          "name": "stdout",
          "text": [
            "Training samples: 156\n",
            "Testing samples: 39\n"
          ]
        }
      ]
    },
    {
      "cell_type": "code",
      "source": [
        "# Build and Train a Logistic Regression Model\n",
        "\n",
        "model = LogisticRegression()\n",
        "model.fit(X_train, y_train)\n",
        "\n",
        "# Predict probabilities and classes\n",
        "y_pred_prob = model.predict_proba(X_test)[:, 1]\n",
        "y_pred_class = model.predict(X_test)\n",
        "\n",
        "# Evaluate the model\n",
        "accuracy = accuracy_score(y_test, y_pred_class)\n",
        "roc_auc = roc_auc_score(y_test, y_pred_prob)\n",
        "\n",
        "print(\"Accuracy:\", accuracy)\n",
        "print(\"ROC-AUC:\", roc_auc)"
      ],
      "metadata": {
        "colab": {
          "base_uri": "https://localhost:8080/"
        },
        "id": "MODuotGg7jgZ",
        "outputId": "da61b2ce-d338-48b9-e6ee-5fc27f9753ae"
      },
      "execution_count": 12,
      "outputs": [
        {
          "output_type": "stream",
          "name": "stdout",
          "text": [
            "Accuracy: 0.48717948717948717\n",
            "ROC-AUC: 0.4074074074074074\n"
          ]
        }
      ]
    },
    {
      "cell_type": "code",
      "source": [
        "echo \"# Lichess_WinPredictor\" >> README.md\n",
        "git init\n",
        "git add README.md\n",
        "git commit -m \"first commit\"\n",
        "git branch -M main\n",
        "git remote add origin git@github.com:phijopho/Lichess_WinPredictor.git\n",
        "git push -u origin main"
      ],
      "metadata": {
        "colab": {
          "base_uri": "https://localhost:8080/",
          "height": 105
        },
        "id": "XQExy9NF8gN5",
        "outputId": "98584689-e6ac-4591-c6d5-c77f8bc80c95"
      },
      "execution_count": 13,
      "outputs": [
        {
          "output_type": "error",
          "ename": "SyntaxError",
          "evalue": "invalid syntax (<ipython-input-13-d025c67df61c>, line 1)",
          "traceback": [
            "\u001b[0;36m  File \u001b[0;32m\"<ipython-input-13-d025c67df61c>\"\u001b[0;36m, line \u001b[0;32m1\u001b[0m\n\u001b[0;31m    echo \"# Lichess_WinPredictor\" >> README.md\u001b[0m\n\u001b[0m         ^\u001b[0m\n\u001b[0;31mSyntaxError\u001b[0m\u001b[0;31m:\u001b[0m invalid syntax\n"
          ]
        }
      ]
    }
  ]
}